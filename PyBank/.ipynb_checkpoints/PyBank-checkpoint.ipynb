{
 "cells": [
  {
   "cell_type": "code",
   "execution_count": 17,
   "metadata": {},
   "outputs": [],
   "source": [
    "import os\n",
    "import csv"
   ]
  },
  {
   "cell_type": "code",
   "execution_count": 18,
   "metadata": {},
   "outputs": [
    {
     "name": "stdout",
     "output_type": "stream",
     "text": [
      "PyBank.ipynb \u001b[34mResources\u001b[m\u001b[m    main.py\n"
     ]
    }
   ],
   "source": [
    "!ls"
   ]
  },
  {
   "cell_type": "code",
   "execution_count": 19,
   "metadata": {},
   "outputs": [
    {
     "name": "stdout",
     "output_type": "stream",
     "text": [
      "Resources/budget_data.csv\n"
     ]
    }
   ],
   "source": [
    "file_path = os.path.join('Resources','budget_data.csv')\n",
    "print(file_path)"
   ]
  },
  {
   "cell_type": "code",
   "execution_count": 20,
   "metadata": {},
   "outputs": [
    {
     "name": "stdout",
     "output_type": "stream",
     "text": [
      "Total Months: 86\n",
      "Total Net Amount: $ 38,382,578.0\n",
      "Average Change: $ -2315.12\n",
      "Greatest Increase in Profits: Feb-12 1,926,159.0\n",
      "Greatest Decrease in Losses: Sep-13 -2,196,167.0\n"
     ]
    }
   ],
   "source": [
    "total_months = 0\n",
    "total_net = 0\n",
    "changes = []\n",
    "months = []\n",
    "previous_profit = 0\n",
    "average_change = 0\n",
    "greatest_profit_increase = 0\n",
    "greatest_loss_decrease = 0\n",
    "\n",
    "with open(file_path) as file:\n",
    "    data = csv.reader(file,delimiter=',')\n",
    "    next(data)\n",
    "    for row in data:\n",
    "        x = float(row[1]) \n",
    "        total_months +=1\n",
    "        total_net += x\n",
    "        \n",
    "        changes.append(x - previous_profit) \n",
    "        \n",
    "        months.append(row[0]) \n",
    "        previous_profit = x\n",
    "    \n",
    "    greatest_profit_increase = max(changes) \n",
    "    greatest_loss_decrease = min(changes)\n",
    "    \n",
    "    changes.pop(0) \n",
    "    \n",
    "    average_change = sum(changes) / len(changes)\n",
    "        \n",
    "    increase_index = changes.index(greatest_profit_increase)+1\n",
    "    decrease_index = changes.index(greatest_loss_decrease)+1\n",
    "    \n",
    "    average_change = str(round(average_change, 2))\n",
    "    \n",
    "    total_net = '{:,}'.format(total_net)\n",
    "    greatest_profit_increase = '{:,}'.format(greatest_profit_increase)\n",
    "    greatest_loss_decrease = '{:,}'.format(greatest_loss_decrease)\n",
    "    \n",
    "print (\"Total Months:\", total_months)\n",
    "print (\"Total Net Amount: $\", total_net)\n",
    "print (\"Average Change: $\", average_change)\n",
    "print (\"Greatest Increase in Profits:\", months[increase_index], greatest_profit_increase)\n",
    "print (\"Greatest Decrease in Losses:\", months[decrease_index], greatest_loss_decrease)\n"
   ]
  },
  {
   "cell_type": "code",
   "execution_count": 21,
   "metadata": {},
   "outputs": [],
   "source": [
    "output = ('Total Months: {}\\n Total Net Amount: $ {} \\n Average Change: $ {} \\n Greatest Increase in Profits: {} \\n Greatest Decrease in Losses: {}').format(total_months, total_net, average_change, (months[increase_index], greatest_profit_increase), (months[decrease_index], greatest_loss_decrease))  "
   ]
  },
  {
   "cell_type": "code",
   "execution_count": 22,
   "metadata": {},
   "outputs": [
    {
     "name": "stdout",
     "output_type": "stream",
     "text": [
      "Total Months: 86\n",
      " Total Net Amount: $ 38,382,578.0 \n",
      " Average Change: $ -2315.12 \n",
      " Greatest Increase in Profits: ('Feb-12', '1,926,159.0') \n",
      " Greatest Decrease in Losses: ('Sep-13', '-2,196,167.0')\n"
     ]
    }
   ],
   "source": [
    "print(output)"
   ]
  },
  {
   "cell_type": "code",
   "execution_count": 23,
   "metadata": {},
   "outputs": [],
   "source": [
    "#In addition, your final script should both \n",
    "#print the analysis to the terminal and \n",
    "#export a text file with the results.\n",
    "\n",
    "# Specify the file to write to\n",
    "output_path = os.path.join(\"Resources\", \"output.txt\")\n",
    "\n",
    "# Open the file using \"write\" mode. Specify the variable to hold the contents\n",
    "with open(output_path, 'w', newline='') as txtfile:\n",
    "    \n",
    "    txtfile.write(output)\n",
    "    "
   ]
  },
  {
   "cell_type": "code",
   "execution_count": 24,
   "metadata": {},
   "outputs": [],
   "source": [
    "#Not sure why this is here...this was in the starter code I was given so I left it.  \n",
    "import inspect"
   ]
  },
  {
   "cell_type": "code",
   "execution_count": null,
   "metadata": {},
   "outputs": [],
   "source": [
    "# I made the average_change to the nearest hundredth, but couldn't figure out \n",
    "# how to get the other $ values to work...?\n",
    "# ATTEMPT:  total_net = '{:06.2f}'.format(total_net) "
   ]
  }
 ],
 "metadata": {
  "kernelspec": {
   "display_name": "Python 3",
   "language": "python",
   "name": "python3"
  },
  "language_info": {
   "codemirror_mode": {
    "name": "ipython",
    "version": 3
   },
   "file_extension": ".py",
   "mimetype": "text/x-python",
   "name": "python",
   "nbconvert_exporter": "python",
   "pygments_lexer": "ipython3",
   "version": "3.6.5"
  }
 },
 "nbformat": 4,
 "nbformat_minor": 2
}
