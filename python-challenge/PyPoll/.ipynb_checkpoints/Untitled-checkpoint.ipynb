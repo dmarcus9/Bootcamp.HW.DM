{
 "cells": [
  {
   "cell_type": "code",
   "execution_count": 2,
   "metadata": {},
   "outputs": [],
   "source": [
    "import os\n",
    "import csv"
   ]
  },
  {
   "cell_type": "code",
   "execution_count": 3,
   "metadata": {},
   "outputs": [],
   "source": [
    "file_path = os.path.join('Resources','election_data.csv')"
   ]
  },
  {
   "cell_type": "code",
   "execution_count": 19,
   "metadata": {},
   "outputs": [
    {
     "name": "stdout",
     "output_type": "stream",
     "text": [
      "Election Results\n",
      "----------------------\n",
      "Total Votes: 3521001\n",
      "----------------------\n",
      "Khan: 63.00%  2218231\n",
      "Correy: 20.00%  704200\n",
      "Li: 14.00%  492940\n",
      "O'Tooley: 3.00%  105630\n",
      "----------------------\n",
      "Winner: Khan\n"
     ]
    }
   ],
   "source": [
    "#The total number of votes cast\n",
    "#A complete list of candidates who received votes\n",
    "#The percentage of votes each candidate won\n",
    "#The total number of votes each candidate won\n",
    "\n",
    "total_votes = 0\n",
    "Khan_votes = []\n",
    "Correy_votes = []\n",
    "Li_votes = []\n",
    "OTooley_votes = []\n",
    "Winning_votes = 0\n",
    "Winner = \"\"\n",
    "\n",
    "with open(file_path) as file:\n",
    "    data = csv.reader(file,delimiter=',')\n",
    "    next(data)\n",
    "    for row in data:\n",
    "        x = str(row[2]) \n",
    "        total_votes +=1\n",
    "        \n",
    "        if row[2] == \"Khan\":\n",
    "            Khan_votes.append(\"Khan\")\n",
    "        elif row[2] == \"Correy\":\n",
    "            Correy_votes.append(\"Correy\")\n",
    "        elif row[2] == \"Li\":\n",
    "            Li_votes.append(\"Li\")   \n",
    "        elif row[2] == \"O'Tooley\":\n",
    "             OTooley_votes.append(\"O'Tooley\") \n",
    "    \n",
    "if len(Khan_votes) > Winning_votes:\n",
    "    Winning_votes = len(Khan_votes)\n",
    "    Winner = \"Khan\"\n",
    "if len(Correy_votes) > Winning_votes:\n",
    "    Winning_votes = len(Correy_votes)\n",
    "    Winner = \"Correy\"\n",
    "if len(Li_votes) > Winning_votes:\n",
    "    Winning_votes = len(Li_votes)\n",
    "    Winner = \"Li\"\n",
    "if len(OTooley_votes) > Winning_votes:\n",
    "    Winning_votes = len(OTooley_votes)\n",
    "    Winner = \"O'Tooley\"\n",
    "        \n",
    "print (\"Election Results\") \n",
    "print (\"----------------------\") \n",
    "print (\"Total Votes:\", total_votes)\n",
    "print (\"----------------------\")  \n",
    "\n",
    "# '{:.2f}'.format shortened the percentages to 2 decimal places\n",
    "# and I made a variable to hold the values\n",
    "\n",
    "Khan_percent = '{:.2f}'.format(len(Khan_votes)/total_votes*100)\n",
    "Correy_percent = '{:.2f}'.format(len(Correy_votes)/total_votes*100)\n",
    "Li_percent = '{:.2f}'.format(len(Li_votes)/total_votes*100)\n",
    "OTooley_percent = '{:.2f}'.format(len(OTooley_votes)/total_votes*100)\n",
    "\n",
    "print (\"Khan: \" + Khan_percent + \"%  \" + str(len(Khan_votes)))\n",
    "print (\"Correy: \" + Correy_percent + \"%  \" + str(len(Correy_votes)))\n",
    "print (\"Li: \" + Li_percent + \"%  \" + str(len(Li_votes))) \n",
    "print (\"O'Tooley: \" + OTooley_percent + \"%  \" + str(len(OTooley_votes)))\n",
    "print (\"----------------------\") \n",
    "print (\"Winner: \" + Winner)\n"
   ]
  },
  {
   "cell_type": "code",
   "execution_count": 5,
   "metadata": {},
   "outputs": [],
   "source": [
    "with open(\"Resources/output.txt\", \"w\") as text_file:\n",
    "    text_file.write(\"Election Results\\n\")\n",
    "    text_file.write(\"----------------------\\n\") \n",
    "    text_file.write(\"Total Votes:\" + str(total_votes)+ \"\\n\")\n",
    "    text_file.write(\"----------------------\\n\") \n",
    "    text_file.write(\"Khan: \" + str(len(Khan_votes)/total_votes*100) + \"%  \" + str(len(Khan_votes))+ \"\\n\") \n",
    "    text_file.write(\"Correy: \" + str(len(Correy_votes)/total_votes*100) + \"%  \" + str(len(Correy_votes))+ \"\\n\")\n",
    "    text_file.write(\"Li: \" + str(len(Li_votes)/total_votes*100) + \"%  \" + str(len(Li_votes))+ \"\\n\") \n",
    "    text_file.write(\"O'Tooley: \" + str(len(OTooley_votes)/total_votes*100) + \"%  \" + str(len(OTooley_votes))+ \"\\n\")\n",
    "    text_file.write(\"----------------------\\n\") \n",
    "    text_file.write(\"Winner: \" + Winner) "
   ]
  },
  {
   "cell_type": "code",
   "execution_count": 6,
   "metadata": {},
   "outputs": [
    {
     "name": "stdout",
     "output_type": "stream",
     "text": [
      "2.29\n"
     ]
    }
   ],
   "source": [
    "# If you use deimcal, you need to import\n",
    "from decimal import getcontext, Decimal\n",
    "\n",
    "# Set the precision.\n",
    "getcontext().prec = 3\n",
    "\n",
    "# Execute 1/7, however cast both numbers as decimals\n",
    "output = Decimal(16.0)/Decimal(7)\n",
    "\n",
    "# Your output will return w/ 6 decimal places, which\n",
    "# we set above.\n",
    "print (output)"
   ]
  },
  {
   "cell_type": "code",
   "execution_count": null,
   "metadata": {},
   "outputs": [],
   "source": []
  },
  {
   "cell_type": "code",
   "execution_count": null,
   "metadata": {},
   "outputs": [],
   "source": []
  }
 ],
 "metadata": {
  "kernelspec": {
   "display_name": "Python 3",
   "language": "python",
   "name": "python3"
  },
  "language_info": {
   "codemirror_mode": {
    "name": "ipython",
    "version": 3
   },
   "file_extension": ".py",
   "mimetype": "text/x-python",
   "name": "python",
   "nbconvert_exporter": "python",
   "pygments_lexer": "ipython3",
   "version": "3.6.5"
  }
 },
 "nbformat": 4,
 "nbformat_minor": 2
}
